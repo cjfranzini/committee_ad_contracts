{
 "cells": [
  {
   "cell_type": "markdown",
   "metadata": {},
   "source": [
    "# Get Committee Data from ProPublica's Free the Files API #  \n",
    "This notebook queries ProPublica's [Free the Files API](https://projects.propublica.org/free-the-files/api) for available committee data.\n",
    "\n",
    "For more info on ProPublica check out https://propublica.org."
   ]
  },
  {
   "cell_type": "code",
   "execution_count": null,
   "metadata": {
    "ExecuteTime": {
     "end_time": "2017-04-30T19:58:00.439559Z",
     "start_time": "2017-04-30T15:58:00.434099-04:00"
    },
    "collapsed": true
   },
   "outputs": [],
   "source": [
    "import pickle\n",
    "import pandas as pd\n",
    "import requests\n",
    "import json\n",
    "import time"
   ]
  },
  {
   "cell_type": "code",
   "execution_count": null,
   "metadata": {
    "ExecuteTime": {
     "end_time": "2017-04-30T19:37:27.977936Z",
     "start_time": "2017-04-30T15:37:27.970010-04:00"
    },
    "collapsed": true
   },
   "outputs": [],
   "source": [
    "def get_ftf_list(url):\n",
    "\n",
    "    r = requests.get(url)\n",
    "    if r.status_code != 200:\n",
    "        return 'Request failed'\n",
    "        \n",
    "    raw = json.loads(r.text)\n",
    "    \n",
    "    return raw\n",
    "\n",
    "\n",
    "def get_ftf_committee_data(slugs):\n",
    "    out = {}\n",
    "    failed = []\n",
    "    counter = 0\n",
    "    for slug in slugs:\n",
    "        r = requests.get('https://projects.propublica.org/free-the-files/committees/' + slug + '.json')\n",
    "        if r.status_code != 200:\n",
    "            failed.append(slug)\n",
    "\n",
    "        raw_json = json.loads(r.text)\n",
    "        values = raw_json['committee']\n",
    "        out[counter] = {key: values[key] for key in values.keys() if key != 'freed_files'}\n",
    "\n",
    "        time.sleep(1)\n",
    "        counter += 1\n",
    "        \n",
    "    return out"
   ]
  },
  {
   "cell_type": "markdown",
   "metadata": {},
   "source": [
    "### Query API for list of committees ###"
   ]
  },
  {
   "cell_type": "code",
   "execution_count": null,
   "metadata": {
    "ExecuteTime": {
     "end_time": "2017-04-30T19:37:45.426368Z",
     "start_time": "2017-04-30T15:37:44.465412-04:00"
    },
    "collapsed": true
   },
   "outputs": [],
   "source": [
    "committees = get_ftf_list(url='https://projects.propublica.org/free-the-files/committees.json')\n",
    "pickle.dump(committees,open('../data/committees.p','wb'))"
   ]
  },
  {
   "cell_type": "code",
   "execution_count": null,
   "metadata": {
    "ExecuteTime": {
     "end_time": "2017-04-30T19:38:27.167111Z",
     "start_time": "2017-04-30T15:38:27.160802-04:00"
    },
    "collapsed": true
   },
   "outputs": [],
   "source": [
    "committees_dict = {i: committees[i]['committee'] for i in range(len(committees))}\n",
    "pd.DataFrame.from_dict(committees_dict,orient='index').to_csv('../data/committees.csv')"
   ]
  },
  {
   "cell_type": "markdown",
   "metadata": {
    "ExecuteTime": {
     "end_time": "2017-04-30T19:38:56.638620Z",
     "start_time": "2017-04-30T15:38:56.615774-04:00"
    },
    "collapsed": true
   },
   "source": [
    "### Query API for committee data ###"
   ]
  },
  {
   "cell_type": "code",
   "execution_count": null,
   "metadata": {
    "ExecuteTime": {
     "end_time": "2017-04-30T19:55:28.000376Z",
     "start_time": "2017-04-30T15:55:27.994305-04:00"
    },
    "collapsed": true
   },
   "outputs": [],
   "source": [
    "slugs = [v['slug'] for v in committees_dict.values()]"
   ]
  },
  {
   "cell_type": "code",
   "execution_count": null,
   "metadata": {
    "ExecuteTime": {
     "end_time": "2017-04-30T20:22:20.521481Z",
     "start_time": "2017-04-30T15:58:05.547824-04:00"
    },
    "collapsed": true
   },
   "outputs": [],
   "source": [
    "committee_data = get_ftf_committee_data(slugs)\n",
    "pd.DataFrame.from_dict(committee_data,orient='index').to_csv('../data/committee_data.csv')"
   ]
  },
  {
   "cell_type": "markdown",
   "metadata": {},
   "source": [
    "### Build dictionary of committees that file with the Federal Election Commission (FEC) ###  \n",
    "These committees will be used when querying ProPublica's [Campaign Finance API](https://propublica.github.io/campaign-finance-api-docs/)."
   ]
  },
  {
   "cell_type": "code",
   "execution_count": null,
   "metadata": {
    "ExecuteTime": {
     "end_time": "2017-04-30T20:23:35.086049Z",
     "start_time": "2017-04-30T16:23:35.027533-04:00"
    },
    "collapsed": true
   },
   "outputs": [],
   "source": [
    "fec = {k: v['fec_id'] for k,v in committee_data.items() if v['fec_id'] != None}\n",
    "pickle.dump(fec,open('../pickle_jar/fec_committees.p','wb'))"
   ]
  }
 ],
 "metadata": {
  "kernelspec": {
   "display_name": "Python 3",
   "language": "python",
   "name": "python3"
  },
  "language_info": {
   "codemirror_mode": {
    "name": "ipython",
    "version": 3
   },
   "file_extension": ".py",
   "mimetype": "text/x-python",
   "name": "python",
   "nbconvert_exporter": "python",
   "pygments_lexer": "ipython3",
   "version": "3.5.3"
  },
  "latex_envs": {
   "LaTeX_envs_menu_present": true,
   "autocomplete": true,
   "bibliofile": "biblio.bib",
   "cite_by": "apalike",
   "current_citInitial": 1,
   "eqLabelWithNumbers": true,
   "eqNumInitial": 1,
   "hotkeys": {
    "equation": "Ctrl-E",
    "itemize": "Ctrl-I"
   },
   "labels_anchors": false,
   "latex_user_defs": false,
   "report_style_numbering": false,
   "user_envs_cfg": false
  },
  "varInspector": {
   "cols": {
    "lenName": 16,
    "lenType": 16,
    "lenVar": 40
   },
   "kernels_config": {
    "python": {
     "delete_cmd_postfix": "",
     "delete_cmd_prefix": "del ",
     "library": "var_list.py",
     "varRefreshCmd": "print(var_dic_list())"
    },
    "r": {
     "delete_cmd_postfix": ") ",
     "delete_cmd_prefix": "rm(",
     "library": "var_list.r",
     "varRefreshCmd": "cat(var_dic_list()) "
    }
   },
   "types_to_exclude": [
    "module",
    "function",
    "builtin_function_or_method",
    "instance",
    "_Feature"
   ],
   "window_display": false
  }
 },
 "nbformat": 4,
 "nbformat_minor": 2
}
