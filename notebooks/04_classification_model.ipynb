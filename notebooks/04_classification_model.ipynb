{
 "cells": [
  {
   "cell_type": "markdown",
   "metadata": {},
   "source": [
    "# Classification Models #\n",
    "This notebook models the data using [SciKit-Learn's Decision Tree Classifier](http://scikit-learn.org/stable/modules/generated/sklearn.tree.DecisionTreeClassifier.html). It looks at a 3-class model and a 6-class model."
   ]
  },
  {
   "cell_type": "code",
   "execution_count": 1,
   "metadata": {
    "ExecuteTime": {
     "end_time": "2017-05-13T17:40:46.263214Z",
     "start_time": "2017-05-13T13:40:44.118144-04:00"
    }
   },
   "outputs": [
    {
     "name": "stdout",
     "output_type": "stream",
     "text": [
      "Populating the interactive namespace from numpy and matplotlib\n"
     ]
    }
   ],
   "source": [
    "import pickle\n",
    "import pandas as pd\n",
    "import pprint as pp\n",
    "import numpy as np\n",
    "import itertools\n",
    "\n",
    "from sklearn.model_selection import KFold, GridSearchCV, train_test_split\n",
    "from sklearn.tree import DecisionTreeClassifier\n",
    "from sklearn.preprocessing import LabelEncoder, MinMaxScaler\n",
    "from sklearn.metrics import accuracy_score, precision_score, recall_score, f1_score, confusion_matrix, classification_report\n",
    "\n",
    "%pylab inline\n",
    "plt.style.use('ggplot')"
   ]
  },
  {
   "cell_type": "code",
   "execution_count": 2,
   "metadata": {
    "ExecuteTime": {
     "end_time": "2017-05-13T17:40:46.323732Z",
     "start_time": "2017-05-13T13:40:46.267162-04:00"
    },
    "collapsed": true
   },
   "outputs": [],
   "source": [
    "def label_encoder(series):\n",
    "    le = LabelEncoder()\n",
    "    le.fit(series)\n",
    "    \n",
    "    return (le.get_params, le.transform(series))\n",
    "\n",
    "\n",
    "def plot_confusion_matrix(cm, classes,\n",
    "                          normalize=False,\n",
    "                          title='Confusion matrix',\n",
    "                          cmap=plt.cm.Blues):\n",
    "    \"\"\"\n",
    "    This function prints and plots the confusion matrix.\n",
    "    Normalization can be applied by setting `normalize=True`.\n",
    "    \n",
    "    BORROWED AND MODIFIED FROM SK-LEARN'S DOCUMENTATION\n",
    "    \"\"\"\n",
    "    plt.imshow(cm, interpolation='nearest', cmap=cmap)\n",
    "    plt.title(title)\n",
    "    \n",
    "    tick_marks = np.arange(len(classes))\n",
    "    plt.xticks(tick_marks, classes, rotation=45)\n",
    "    plt.yticks(tick_marks, classes)\n",
    "\n",
    "    if normalize:\n",
    "        cm = cm.astype('float') / cm.sum(axis=1)[:, np.newaxis]\n",
    "    else:\n",
    "        pass\n",
    "\n",
    "    thresh = cm.max() / 2.\n",
    "    for i, j in itertools.product(range(cm.shape[0]), range(cm.shape[1])):\n",
    "        if normalize:\n",
    "            prop = \"{:.2}\".format(cm[i, j])\n",
    "        else:\n",
    "            prop = cm[i, j]\n",
    "        plt.text(j, i, prop,\n",
    "                 horizontalalignment=\"center\",\n",
    "                 color=\"white\" if cm[i, j] > thresh else \"black\")\n",
    "    plt.colorbar()\n",
    "\n",
    "    plt.tight_layout()\n",
    "    plt.ylabel('True label')\n",
    "    plt.xlabel('Predicted label')"
   ]
  },
  {
   "cell_type": "markdown",
   "metadata": {},
   "source": [
    "### Load in cleaned data ###"
   ]
  },
  {
   "cell_type": "code",
   "execution_count": 3,
   "metadata": {
    "ExecuteTime": {
     "end_time": "2017-05-13T17:40:46.369962Z",
     "start_time": "2017-05-13T13:40:46.327062-04:00"
    },
    "collapsed": true
   },
   "outputs": [],
   "source": [
    "clean_join = pickle.load(open('../pickle_jar/clean_join.p','rb'))"
   ]
  },
  {
   "cell_type": "markdown",
   "metadata": {},
   "source": [
    "## First model: Non-Profits, PACs, Party Committees ##\n",
    "The first model classifies each contract's committee as either a non-profit, political action committee (PAC), or party-affiliated committee using only the terms of the contract."
   ]
  },
  {
   "cell_type": "code",
   "execution_count": 4,
   "metadata": {
    "ExecuteTime": {
     "end_time": "2017-05-13T17:40:46.380327Z",
     "start_time": "2017-05-13T13:40:46.372952-04:00"
    },
    "collapsed": true
   },
   "outputs": [],
   "source": [
    "features = ['agency','callsign','marketid','ad_gross_amount','display_type']\n",
    "\n",
    "model_1 = clean_join[features].copy(deep=True)"
   ]
  },
  {
   "cell_type": "code",
   "execution_count": 5,
   "metadata": {
    "ExecuteTime": {
     "end_time": "2017-05-13T17:40:46.392327Z",
     "start_time": "2017-05-13T13:40:46.383800-04:00"
    },
    "collapsed": true
   },
   "outputs": [],
   "source": [
    "X = model_1[model_1.columns[model_1.columns != 'display_type']]"
   ]
  },
  {
   "cell_type": "code",
   "execution_count": 6,
   "metadata": {
    "ExecuteTime": {
     "end_time": "2017-05-13T17:40:46.590479Z",
     "start_time": "2017-05-13T13:40:46.395573-04:00"
    },
    "collapsed": true,
    "run_control": {
     "marked": false
    }
   },
   "outputs": [
    {
     "name": "stderr",
     "output_type": "stream",
     "text": [
      "/Users/Chris/anaconda/envs/scienv3/lib/python3.5/site-packages/ipykernel_launcher.py:4: SettingWithCopyWarning: \n",
      "A value is trying to be set on a copy of a slice from a DataFrame.\n",
      "Try using .loc[row_indexer,col_indexer] = value instead\n",
      "\n",
      "See the caveats in the documentation: http://pandas.pydata.org/pandas-docs/stable/indexing.html#indexing-view-versus-copy\n",
      "  after removing the cwd from sys.path.\n"
     ]
    }
   ],
   "source": [
    "categorical_cols = ['agency','callsign','marketid']\n",
    "\n",
    "for col in categorical_cols:\n",
    "    X[col] = label_encoder(X[col])[1]\n",
    "    \n",
    "X = X.reset_index(drop=True)"
   ]
  },
  {
   "cell_type": "code",
   "execution_count": 7,
   "metadata": {
    "ExecuteTime": {
     "end_time": "2017-05-13T17:40:46.598659Z",
     "start_time": "2017-05-13T13:40:46.593593-04:00"
    },
    "collapsed": true
   },
   "outputs": [],
   "source": [
    "y = model_1['display_type']"
   ]
  },
  {
   "cell_type": "code",
   "execution_count": 8,
   "metadata": {
    "ExecuteTime": {
     "end_time": "2017-05-13T17:40:46.623563Z",
     "start_time": "2017-05-13T13:40:46.601856-04:00"
    },
    "collapsed": true
   },
   "outputs": [],
   "source": [
    "y = pd.Series(label_encoder(y)[1])\n",
    "y = y.reset_index(drop=True)"
   ]
  },
  {
   "cell_type": "markdown",
   "metadata": {},
   "source": [
    "### Decision Tree ###"
   ]
  },
  {
   "cell_type": "code",
   "execution_count": 9,
   "metadata": {
    "ExecuteTime": {
     "end_time": "2017-05-13T17:40:46.633622Z",
     "start_time": "2017-05-13T13:40:46.626486-04:00"
    },
    "collapsed": true
   },
   "outputs": [],
   "source": [
    "kf = KFold(n_splits=5,shuffle=True)"
   ]
  },
  {
   "cell_type": "code",
   "execution_count": 10,
   "metadata": {
    "ExecuteTime": {
     "end_time": "2017-05-13T17:40:46.726629Z",
     "start_time": "2017-05-13T13:40:46.637380-04:00"
    },
    "collapsed": true
   },
   "outputs": [],
   "source": [
    "fis = []\n",
    "\n",
    "for train_index, test_index in kf.split(X):\n",
    "    dt = DecisionTreeClassifier()\n",
    "    dt.fit(X.loc[train_index,:], y[train_index])\n",
    "    fis.append(dt.feature_importances_)"
   ]
  },
  {
   "cell_type": "code",
   "execution_count": 11,
   "metadata": {
    "ExecuteTime": {
     "end_time": "2017-05-13T17:40:46.734787Z",
     "start_time": "2017-05-13T13:40:46.728887-04:00"
    },
    "collapsed": true
   },
   "outputs": [],
   "source": [
    "avg_feat_imps = np.array(fis).mean(axis=0)\n",
    "std_feat_imps = np.array(fis).std(axis=0)"
   ]
  },
  {
   "cell_type": "code",
   "execution_count": 12,
   "metadata": {
    "ExecuteTime": {
     "end_time": "2017-05-13T17:40:47.328711Z",
     "start_time": "2017-05-13T13:40:46.738499-04:00"
    }
   },
   "outputs": [
    {
     "data": {
      "image/png": "[encoded data removed]",
      "text/plain": [
       "<matplotlib.figure.Figure at 0x108447828>"
      ]
     },
     "metadata": {},
     "output_type": "display_data"
    }
   ],
   "source": [
    "fig,ax = plt.subplots(figsize=(12,8))\n",
    "\n",
    "ax.bar(np.arange(1,5),\n",
    "       avg_feat_imps,\n",
    "       width=0.65,\n",
    "       yerr=std_feat_imps)\n",
    "\n",
    "ax.set(xticks=np.arange(1,5),\n",
    "       xticklabels=['Agency','Station','Market','Amount'],\n",
    "      title='Model 1: Decision Tree Feature Importances',\n",
    "      xlabel='Features',\n",
    "      ylabel='Importance',\n",
    "      ylim=(0,1));"
   ]
  },
  {
   "cell_type": "markdown",
   "metadata": {},
   "source": [
    "### General DT fit to whole set ###"
   ]
  },
  {
   "cell_type": "code",
   "execution_count": 13,
   "metadata": {
    "ExecuteTime": {
     "end_time": "2017-05-13T17:40:47.355456Z",
     "start_time": "2017-05-13T13:40:47.334448-04:00"
    },
    "collapsed": true
   },
   "outputs": [],
   "source": [
    "X_train, X_test, y_train, y_test = train_test_split(X, y, test_size=.3)"
   ]
  },
  {
   "cell_type": "code",
   "execution_count": 14,
   "metadata": {
    "ExecuteTime": {
     "end_time": "2017-05-13T17:40:47.380289Z",
     "start_time": "2017-05-13T13:40:47.359153-04:00"
    }
   },
   "outputs": [
    {
     "name": "stdout",
     "output_type": "stream",
     "text": [
      "             precision    recall  f1-score   support\n",
      "\n",
      "          0       0.72      0.70      0.71       218\n",
      "          1       0.93      0.94      0.94      1296\n",
      "          2       0.92      0.91      0.92       275\n",
      "\n",
      "avg / total       0.90      0.91      0.91      1789\n",
      "\n"
     ]
    }
   ],
   "source": [
    "dt = DecisionTreeClassifier()\n",
    "dt.fit(X_train,y_train);\n",
    "print(classification_report(y_test, dt.predict(X_test)))"
   ]
  },
  {
   "cell_type": "code",
   "execution_count": 15,
   "metadata": {
    "ExecuteTime": {
     "end_time": "2017-05-13T17:40:48.014311Z",
     "start_time": "2017-05-13T13:40:47.382938-04:00"
    }
   },
   "outputs": [
    {
     "data": {
      "image/png": "[encoded data removed]",
      "text/plain": [
       "<matplotlib.figure.Figure at 0x108447358>"
      ]
     },
     "metadata": {},
     "output_type": "display_data"
    }
   ],
   "source": [
    "cnf_matrix = confusion_matrix(y_test, dt.predict(X_test))\n",
    "cnf_matrix = cnf_matrix.astype('float') / cnf_matrix.sum(axis=1)[:, np.newaxis]\n",
    "\n",
    "fig,ax = plt.subplots(figsize=(8,8))\n",
    "plot_confusion_matrix(cnf_matrix, classes=['Non-Profit','Party','PAC'],\n",
    "                      title='Model 1 Confusion Matrix',\n",
    "                     normalize=True)"
   ]
  },
  {
   "cell_type": "markdown",
   "metadata": {},
   "source": [
    "## Second model: House-Candidate Committees, Non-Profits/Individuals, SuperPACs, Presidential-Candidate Committees, Senate-Candidate Committees, Party Committees ##\n",
    "The second model classifies each contract's committee as either a house-candidate committee, non-profit or individual, superPAC, presidential-candidate committee, senate-candidate committee, or party committee using only the terms of the contract."
   ]
  },
  {
   "cell_type": "code",
   "execution_count": 16,
   "metadata": {
    "ExecuteTime": {
     "end_time": "2017-05-13T17:40:48.027586Z",
     "start_time": "2017-05-13T13:40:48.018742-04:00"
    },
    "collapsed": true
   },
   "outputs": [],
   "source": [
    "features = ['agency','callsign','marketid','ad_gross_amount','committee_type']\n",
    "\n",
    "model_2 = clean_join[features].copy(deep=True)"
   ]
  },
  {
   "cell_type": "code",
   "execution_count": 17,
   "metadata": {
    "ExecuteTime": {
     "end_time": "2017-05-13T17:40:48.039415Z",
     "start_time": "2017-05-13T13:40:48.031490-04:00"
    },
    "collapsed": true
   },
   "outputs": [],
   "source": [
    "X = model_2[model_2.columns[model_2.columns != 'committee_type']]"
   ]
  },
  {
   "cell_type": "code",
   "execution_count": 18,
   "metadata": {
    "ExecuteTime": {
     "end_time": "2017-05-13T17:40:48.287314Z",
     "start_time": "2017-05-13T13:40:48.045515-04:00"
    },
    "collapsed": true,
    "run_control": {
     "marked": false
    }
   },
   "outputs": [
    {
     "name": "stderr",
     "output_type": "stream",
     "text": [
      "/Users/Chris/anaconda/envs/scienv3/lib/python3.5/site-packages/ipykernel_launcher.py:4: SettingWithCopyWarning: \n",
      "A value is trying to be set on a copy of a slice from a DataFrame.\n",
      "Try using .loc[row_indexer,col_indexer] = value instead\n",
      "\n",
      "See the caveats in the documentation: http://pandas.pydata.org/pandas-docs/stable/indexing.html#indexing-view-versus-copy\n",
      "  after removing the cwd from sys.path.\n"
     ]
    }
   ],
   "source": [
    "categorical_cols = ['agency','callsign','marketid']\n",
    "\n",
    "for col in categorical_cols:\n",
    "    X[col] = label_encoder(X[col])[1]\n",
    "    \n",
    "X = X.reset_index(drop=True)"
   ]
  },
  {
   "cell_type": "code",
   "execution_count": 19,
   "metadata": {
    "ExecuteTime": {
     "end_time": "2017-05-13T17:40:48.295237Z",
     "start_time": "2017-05-13T13:40:48.290666-04:00"
    },
    "collapsed": true
   },
   "outputs": [],
   "source": [
    "y = model_2['committee_type']"
   ]
  },
  {
   "cell_type": "code",
   "execution_count": 20,
   "metadata": {
    "ExecuteTime": {
     "end_time": "2017-05-13T17:40:48.319222Z",
     "start_time": "2017-05-13T13:40:48.301154-04:00"
    },
    "collapsed": true
   },
   "outputs": [],
   "source": [
    "y = pd.Series(label_encoder(y)[1])\n",
    "y = y.reset_index(drop=True)"
   ]
  },
  {
   "cell_type": "markdown",
   "metadata": {},
   "source": [
    "### Decision Tree ###"
   ]
  },
  {
   "cell_type": "code",
   "execution_count": 21,
   "metadata": {
    "ExecuteTime": {
     "end_time": "2017-05-13T17:40:48.328145Z",
     "start_time": "2017-05-13T13:40:48.322830-04:00"
    },
    "collapsed": true
   },
   "outputs": [],
   "source": [
    "kf = KFold(n_splits=5,shuffle=True)"
   ]
  },
  {
   "cell_type": "code",
   "execution_count": 22,
   "metadata": {
    "ExecuteTime": {
     "end_time": "2017-05-13T17:40:48.431668Z",
     "start_time": "2017-05-13T13:40:48.331708-04:00"
    },
    "collapsed": true
   },
   "outputs": [],
   "source": [
    "fis = []\n",
    "\n",
    "for train_index, test_index in kf.split(X):\n",
    "    dt = DecisionTreeClassifier()\n",
    "    dt.fit(X.loc[train_index,:], y[train_index])\n",
    "    fis.append(dt.feature_importances_)"
   ]
  },
  {
   "cell_type": "code",
   "execution_count": 23,
   "metadata": {
    "ExecuteTime": {
     "end_time": "2017-05-13T17:40:48.441464Z",
     "start_time": "2017-05-13T13:40:48.435599-04:00"
    },
    "collapsed": true
   },
   "outputs": [],
   "source": [
    "avg_feat_imps = np.array(fis).mean(axis=0)\n",
    "std_feat_imps = np.array(fis).std(axis=0)"
   ]
  },
  {
   "cell_type": "code",
   "execution_count": 24,
   "metadata": {
    "ExecuteTime": {
     "end_time": "2017-05-13T17:40:48.910635Z",
     "start_time": "2017-05-13T13:40:48.444966-04:00"
    }
   },
   "outputs": [
    {
     "data": {
      "image/png": "[encoded data removed]",
      "text/plain": [
       "<matplotlib.figure.Figure at 0x1094e0ac8>"
      ]
     },
     "metadata": {},
     "output_type": "display_data"
    }
   ],
   "source": [
    "fig,ax = plt.subplots(figsize=(12,8))\n",
    "\n",
    "ax.bar(np.arange(1,5),\n",
    "       avg_feat_imps,\n",
    "       width=0.65,\n",
    "       yerr=std_feat_imps)\n",
    "\n",
    "ax.set(xticks=np.arange(1,5),\n",
    "       xticklabels=['Agency','Station','Market','Amount'],\n",
    "      title='Model 2: Decision Tree Feature Importances',\n",
    "      xlabel='Features',\n",
    "      ylabel='Importance',\n",
    "      ylim=(0,1));"
   ]
  },
  {
   "cell_type": "markdown",
   "metadata": {},
   "source": [
    "### General DT fit to whole set ###"
   ]
  },
  {
   "cell_type": "code",
   "execution_count": 25,
   "metadata": {
    "ExecuteTime": {
     "end_time": "2017-05-13T17:40:48.930456Z",
     "start_time": "2017-05-13T13:40:48.915482-04:00"
    },
    "collapsed": true
   },
   "outputs": [],
   "source": [
    "X_train, X_test, y_train, y_test = train_test_split(X, y, test_size=.3)"
   ]
  },
  {
   "cell_type": "code",
   "execution_count": 26,
   "metadata": {
    "ExecuteTime": {
     "end_time": "2017-05-13T17:40:48.957642Z",
     "start_time": "2017-05-13T13:40:48.933653-04:00"
    }
   },
   "outputs": [
    {
     "name": "stdout",
     "output_type": "stream",
     "text": [
      "             precision    recall  f1-score   support\n",
      "\n",
      "          0       0.88      0.83      0.85       253\n",
      "          1       0.71      0.71      0.71       213\n",
      "          2       0.85      0.84      0.85       420\n",
      "          3       0.96      0.98      0.97       458\n",
      "          4       0.86      0.89      0.87       168\n",
      "          5       0.92      0.94      0.93       277\n",
      "\n",
      "avg / total       0.88      0.88      0.88      1789\n",
      "\n"
     ]
    }
   ],
   "source": [
    "dt = DecisionTreeClassifier()\n",
    "dt.fit(X_train,y_train);\n",
    "print(classification_report(y_test, dt.predict(X_test)))"
   ]
  },
  {
   "cell_type": "code",
   "execution_count": 27,
   "metadata": {
    "ExecuteTime": {
     "end_time": "2017-05-13T17:40:49.768174Z",
     "start_time": "2017-05-13T13:40:48.960945-04:00"
    }
   },
   "outputs": [
    {
     "data": {
      "image/png": "[encoded data removed]",
      "text/plain": [
       "<matplotlib.figure.Figure at 0x1084476d8>"
      ]
     },
     "metadata": {},
     "output_type": "display_data"
    }
   ],
   "source": [
    "cnf_matrix = confusion_matrix(y_test, dt.predict(X_test))\n",
    "cnf_matrix = cnf_matrix.astype('float') / cnf_matrix.sum(axis=1)[:, np.newaxis]\n",
    "\n",
    "fig,ax = plt.subplots(figsize=(8,8))\n",
    "plot_confusion_matrix(cnf_matrix, classes=['House','Independent','SuperPAC','Presidential','Senate','Party'],\n",
    "                      title='Model 2: Confusion Matrix',\n",
    "                     normalize=True)"
   ]
  }
 ],
 "metadata": {
  "kernelspec": {
   "display_name": "Python 3",
   "language": "python",
   "name": "python3"
  },
  "language_info": {
   "codemirror_mode": {
    "name": "ipython",
    "version": 3
   },
   "file_extension": ".py",
   "mimetype": "text/x-python",
   "name": "python",
   "nbconvert_exporter": "python",
   "pygments_lexer": "ipython3",
   "version": "3.5.3"
  },
  "latex_envs": {
   "LaTeX_envs_menu_present": true,
   "autocomplete": true,
   "bibliofile": "biblio.bib",
   "cite_by": "apalike",
   "current_citInitial": 1,
   "eqLabelWithNumbers": true,
   "eqNumInitial": 1,
   "hotkeys": {
    "equation": "Ctrl-E",
    "itemize": "Ctrl-I"
   },
   "labels_anchors": false,
   "latex_user_defs": false,
   "report_style_numbering": false,
   "user_envs_cfg": false
  },
  "varInspector": {
   "cols": {
    "lenName": 16,
    "lenType": 16,
    "lenVar": 40
   },
   "kernels_config": {
    "python": {
     "delete_cmd_postfix": "",
     "delete_cmd_prefix": "del ",
     "library": "var_list.py",
     "varRefreshCmd": "print(var_dic_list())"
    },
    "r": {
     "delete_cmd_postfix": ") ",
     "delete_cmd_prefix": "rm(",
     "library": "var_list.r",
     "varRefreshCmd": "cat(var_dic_list()) "
    }
   },
   "types_to_exclude": [
    "module",
    "function",
    "builtin_function_or_method",
    "instance",
    "_Feature"
   ],
   "window_display": false
  }
 },
 "nbformat": 4,
 "nbformat_minor": 2
}
