{
 "cells": [
  {
   "cell_type": "markdown",
   "metadata": {},
   "source": [
    "# Clean Raw Data #\n",
    "This notebook cleans the raw data to prepare it for modeling."
   ]
  },
  {
   "cell_type": "code",
   "execution_count": null,
   "metadata": {
    "ExecuteTime": {
     "end_time": "2017-05-02T16:21:22.150200Z",
     "start_time": "2017-05-02T12:21:21.222319-04:00"
    },
    "collapsed": true
   },
   "outputs": [],
   "source": [
    "import pickle\n",
    "import pandas as pd\n",
    "import numpy as np"
   ]
  },
  {
   "cell_type": "markdown",
   "metadata": {},
   "source": [
    "### Import raw data from SQL join ###"
   ]
  },
  {
   "cell_type": "code",
   "execution_count": null,
   "metadata": {
    "ExecuteTime": {
     "end_time": "2017-05-01T20:10:36.751901Z",
     "start_time": "2017-05-01T16:10:36.509051-04:00"
    },
    "collapsed": true
   },
   "outputs": [],
   "source": [
    "raw_join = pickle.load(open('../pickle_jar/raw_join.p','rb'))"
   ]
  },
  {
   "cell_type": "markdown",
   "metadata": {},
   "source": [
    "### Drop unwanted columns ###"
   ]
  },
  {
   "cell_type": "code",
   "execution_count": null,
   "metadata": {
    "ExecuteTime": {
     "end_time": "2017-05-01T20:10:43.072801Z",
     "start_time": "2017-05-01T16:10:43.067161-04:00"
    },
    "collapsed": true
   },
   "outputs": [],
   "source": [
    "# some are duplicates\n",
    "cols_to_drop = ['index','url','dc_slug','thumbnail_url','upload_date','canonical_committeeid',\n",
    "               'slug','from_pactrack','freed_count','pactrack','state_id','date_coverage_from','end_date',\n",
    "               'fec_uri','interest_group','date_coverage_to','next_filing_date','name','party','committeeid',\n",
    "               'id','gross_amount','super_pac']\n",
    "\n",
    "for col in cols_to_drop:\n",
    "    raw_join.drop(col,axis=1,inplace=True)"
   ]
  },
  {
   "cell_type": "markdown",
   "metadata": {},
   "source": [
    "### Drop committee types represented by fewer than 10% of filings to avoid anomaly detection ###"
   ]
  },
  {
   "cell_type": "code",
   "execution_count": null,
   "metadata": {
    "ExecuteTime": {
     "end_time": "2017-05-01T20:26:39.868254Z",
     "start_time": "2017-05-01T16:26:36.641964-04:00"
    },
    "collapsed": true
   },
   "outputs": [],
   "source": [
    "committee_types_to_drop = ['Q','N','V','W']\n",
    "\n",
    "for i in raw_join.index:\n",
    "    if raw_join.loc[i,'committee_type'] in committee_types_to_drop:\n",
    "        raw_join.drop(i,axis=0,inplace=True)"
   ]
  },
  {
   "cell_type": "markdown",
   "metadata": {
    "ExecuteTime": {
     "end_time": "2017-05-01T20:54:14.996591Z",
     "start_time": "2017-05-01T16:54:14.863272-04:00"
    },
    "collapsed": true
   },
   "source": [
    "### Convert monetary amounts to floats ###"
   ]
  },
  {
   "cell_type": "code",
   "execution_count": null,
   "metadata": {
    "ExecuteTime": {
     "end_time": "2017-05-01T23:53:39.109461Z",
     "start_time": "2017-05-01T19:53:38.984951-04:00"
    },
    "collapsed": true
   },
   "outputs": [],
   "source": [
    "monetary_cols = ['total_individual_unitemized','total_disbursements',\n",
    "                'total_candidate_contributions','total_pac_refunds','total_from_individuals','total_individual_refunds',\n",
    "                'total_from_pacs','debts_owed','total_reciepts','total_contributions','transfers_in',\n",
    "                'total_independent_expenditures','ad_gross_amount','committee_gross_amount']\n",
    "\n",
    "for col in monetary_cols:\n",
    "    raw_join[col] = raw_join[col].apply(lambda x: float(x.strip('$').replace(',','')) if type(x) == str else x)"
   ]
  },
  {
   "cell_type": "code",
   "execution_count": null,
   "metadata": {
    "ExecuteTime": {
     "end_time": "2017-05-01T23:54:25.558297Z",
     "start_time": "2017-05-01T19:54:25.465489-04:00"
    },
    "collapsed": true
   },
   "outputs": [],
   "source": [
    "pickle.dump(raw_join,open('../pickle_jar/raw_join_pared.p','wb'))"
   ]
  },
  {
   "cell_type": "markdown",
   "metadata": {},
   "source": [
    "### Remove multiple filings for same contract ###\n",
    "Several contracts have multiple filings listed--apparently one for each ad in the contract, as some contracts include terms for multiple ads. The 'ad_gross_amount' field represent the total sum of the subsequent filings, so for a group of filings under the same contract I kept the one with the largest 'ad_gross_amount,' which should represent the total amount for the contract. "
   ]
  },
  {
   "cell_type": "code",
   "execution_count": null,
   "metadata": {
    "ExecuteTime": {
     "end_time": "2017-05-02T16:41:43.707834Z",
     "start_time": "2017-05-02T12:41:43.294480-04:00"
    },
    "collapsed": true
   },
   "outputs": [],
   "source": [
    "max_amounts = {}\n",
    "for group in raw_join.groupby('contract_number')['ad_gross_amount']:\n",
    "    max_amounts[group[0]] = max(group[1]) "
   ]
  },
  {
   "cell_type": "code",
   "execution_count": null,
   "metadata": {
    "ExecuteTime": {
     "end_time": "2017-05-02T16:47:47.958775Z",
     "start_time": "2017-05-02T12:47:32.128457-04:00"
    },
    "collapsed": true
   },
   "outputs": [],
   "source": [
    "keep_indicies = []\n",
    "for k,v in max_amounts.items():\n",
    "    mask = ((raw_join.contract_number == k) & (raw_join.ad_gross_amount == v))\n",
    "    keep_indicies.append(raw_join[mask].index[0])"
   ]
  },
  {
   "cell_type": "markdown",
   "metadata": {},
   "source": [
    "### Pickle cleaned dataframe ###"
   ]
  },
  {
   "cell_type": "code",
   "execution_count": null,
   "metadata": {
    "ExecuteTime": {
     "end_time": "2017-05-02T16:49:21.532483Z",
     "start_time": "2017-05-02T12:49:21.502871-04:00"
    },
    "collapsed": true
   },
   "outputs": [],
   "source": [
    "clean_join = raw_join.loc[keep_indicies,:].copy(deep=True)\n",
    "pickle.dump(clean_join,open('../pickle_jar/clean_join.p','wb'))"
   ]
  }
 ],
 "metadata": {
  "kernelspec": {
   "display_name": "Python 3",
   "language": "python",
   "name": "python3"
  },
  "language_info": {
   "codemirror_mode": {
    "name": "ipython",
    "version": 3
   },
   "file_extension": ".py",
   "mimetype": "text/x-python",
   "name": "python",
   "nbconvert_exporter": "python",
   "pygments_lexer": "ipython3",
   "version": "3.5.3"
  },
  "latex_envs": {
   "LaTeX_envs_menu_present": true,
   "autocomplete": true,
   "bibliofile": "biblio.bib",
   "cite_by": "apalike",
   "current_citInitial": 1,
   "eqLabelWithNumbers": true,
   "eqNumInitial": 1,
   "hotkeys": {
    "equation": "Ctrl-E",
    "itemize": "Ctrl-I"
   },
   "labels_anchors": false,
   "latex_user_defs": false,
   "report_style_numbering": false,
   "user_envs_cfg": false
  },
  "varInspector": {
   "cols": {
    "lenName": 16,
    "lenType": 16,
    "lenVar": 40
   },
   "kernels_config": {
    "python": {
     "delete_cmd_postfix": "",
     "delete_cmd_prefix": "del ",
     "library": "var_list.py",
     "varRefreshCmd": "print(var_dic_list())"
    },
    "r": {
     "delete_cmd_postfix": ") ",
     "delete_cmd_prefix": "rm(",
     "library": "var_list.r",
     "varRefreshCmd": "cat(var_dic_list()) "
    }
   },
   "types_to_exclude": [
    "module",
    "function",
    "builtin_function_or_method",
    "instance",
    "_Feature"
   ],
   "window_display": false
  }
 },
 "nbformat": 4,
 "nbformat_minor": 2
}
