{
 "cells": [
  {
   "cell_type": "markdown",
   "metadata": {},
   "source": [
    "# Get Committee Data from ProPublica's Campaign Finance API #  \n",
    "This notebook queries ProPublica's [Campaign Finance API](https://propublica.github.io/campaign-finance-api-docs/) for available committee data.  \n",
    "The API includes committees that file with the Federal Election Commission (FEC).\n",
    "\n",
    "For more info on ProPublica check out https://propublica.org."
   ]
  },
  {
   "cell_type": "code",
   "execution_count": null,
   "metadata": {
    "ExecuteTime": {
     "end_time": "2017-05-13T16:02:51.937024Z",
     "start_time": "2017-05-13T12:02:50.908460-04:00"
    },
    "collapsed": true
   },
   "outputs": [],
   "source": [
    "import json\n",
    "import pandas as pd\n",
    "import requests\n",
    "import time\n",
    "import pickle\n",
    "import pprint as pp"
   ]
  },
  {
   "cell_type": "code",
   "execution_count": null,
   "metadata": {
    "collapsed": true
   },
   "outputs": [],
   "source": [
    "def get_request(committee):\n",
    "    headers = {\n",
    "    'X-API-Key': '{}'.format(API_key),\n",
    "    }\n",
    "\n",
    "    r = requests.get('https://api.propublica.org/campaign-finance/v1/2012/committees/{}'.format(committee) + '.json', \n",
    "                     headers=headers)\n",
    "    time.sleep(1)\n",
    "    \n",
    "    return json.loads(r.text)\n",
    "\n",
    "\n",
    "def gather_committees(committees):\n",
    "    return {committee: get_request(committee) for committee in committees}"
   ]
  },
  {
   "cell_type": "markdown",
   "metadata": {},
   "source": [
    "### Load in dictionary of committees from the Free the Files API that file with the FEC ###"
   ]
  },
  {
   "cell_type": "code",
   "execution_count": null,
   "metadata": {
    "collapsed": true
   },
   "outputs": [],
   "source": [
    "fec = pickle.load(open('../pickle_jar/fec_committees.p','rb'))"
   ]
  },
  {
   "cell_type": "markdown",
   "metadata": {},
   "source": [
    "### Query Campaign Finance API for data on these committees ###"
   ]
  },
  {
   "cell_type": "code",
   "execution_count": null,
   "metadata": {
    "collapsed": true
   },
   "outputs": [],
   "source": [
    "committee_data = gather_committees(list(fec.values()))\n",
    "pickle.dump(committee_data,open('../pickle_jar/cf_committee_data.p','wb'))"
   ]
  },
  {
   "cell_type": "markdown",
   "metadata": {},
   "source": [
    "### Build dictionary of committee data and dump to csv ###"
   ]
  },
  {
   "cell_type": "code",
   "execution_count": null,
   "metadata": {
    "collapsed": true
   },
   "outputs": [],
   "source": [
    "i = 0\n",
    "committee_data_dict = {}\n",
    "for key in committee_data.keys():\n",
    "    committee_data_dict[i] = committee_data[key]['results'][0]\n",
    "    i += 1"
   ]
  },
  {
   "cell_type": "code",
   "execution_count": null,
   "metadata": {
    "collapsed": true
   },
   "outputs": [],
   "source": [
    "# Remove 'other_cycles' field, which lists other election years a committee filed with the FEC\n",
    "# I'm only interested in 2012, which is the year the Free the Files data is from \n",
    "\n",
    "for v in committee_data_dict.values():\n",
    "    try:\n",
    "        del v['other_cycles']\n",
    "    except:\n",
    "        pass"
   ]
  },
  {
   "cell_type": "code",
   "execution_count": null,
   "metadata": {
    "collapsed": true
   },
   "outputs": [],
   "source": [
    "pd.DataFrame.from_dict(committee_data_dict,orient='index').to_csv('../data/cf_committee_data.csv')"
   ]
  }
 ],
 "metadata": {
  "kernelspec": {
   "display_name": "Python 3",
   "language": "python",
   "name": "python3"
  },
  "language_info": {
   "codemirror_mode": {
    "name": "ipython",
    "version": 3
   },
   "file_extension": ".py",
   "mimetype": "text/x-python",
   "name": "python",
   "nbconvert_exporter": "python",
   "pygments_lexer": "ipython3",
   "version": "3.5.3"
  },
  "latex_envs": {
   "LaTeX_envs_menu_present": true,
   "autocomplete": true,
   "bibliofile": "biblio.bib",
   "cite_by": "apalike",
   "current_citInitial": 1,
   "eqLabelWithNumbers": true,
   "eqNumInitial": 1,
   "hotkeys": {
    "equation": "Ctrl-E",
    "itemize": "Ctrl-I"
   },
   "labels_anchors": false,
   "latex_user_defs": false,
   "report_style_numbering": false,
   "user_envs_cfg": false
  },
  "varInspector": {
   "cols": {
    "lenName": 16,
    "lenType": 16,
    "lenVar": 40
   },
   "kernels_config": {
    "python": {
     "delete_cmd_postfix": "",
     "delete_cmd_prefix": "del ",
     "library": "var_list.py",
     "varRefreshCmd": "print(var_dic_list())"
    },
    "r": {
     "delete_cmd_postfix": ") ",
     "delete_cmd_prefix": "rm(",
     "library": "var_list.r",
     "varRefreshCmd": "cat(var_dic_list()) "
    }
   },
   "types_to_exclude": [
    "module",
    "function",
    "builtin_function_or_method",
    "instance",
    "_Feature"
   ],
   "window_display": false
  }
 },
 "nbformat": 4,
 "nbformat_minor": 2
}
