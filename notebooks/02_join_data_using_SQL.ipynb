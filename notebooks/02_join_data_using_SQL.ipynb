{
 "cells": [
  {
   "cell_type": "markdown",
   "metadata": {},
   "source": [
    "# Join Data Using PostgreSQL and AWS #  \n",
    "This notebook is an exercise in using [PostgreSQL](https://www.postgresql.org/) on an [AWS EC2](https://aws.amazon.com/ec2/) [Ubuntu](https://www.ubuntu.com/) instance to join data for cleaning.  \n",
    "It also demonstrates using [sshtunnel](https://sshtunnel.readthedocs.io/en/latest/) and [SQLAlchemy](https://www.sqlalchemy.org/) to access SQL tables on the remote instance locally.\n",
    "\n",
    "This is an exercise because the joins can be performed easily using [pandas](http://pandas.pydata.org/) and the data size does not necessitate a remote instance.\n",
    "\n",
    "I wrote the necessary SQL schema and imported the data prior to running this notebook."
   ]
  },
  {
   "cell_type": "code",
   "execution_count": null,
   "metadata": {
    "ExecuteTime": {
     "end_time": "2017-05-01T19:31:14.061981Z",
     "start_time": "2017-05-01T15:31:14.057426-04:00"
    },
    "collapsed": true
   },
   "outputs": [],
   "source": [
    "import pandas as pd\n",
    "from sshtunnel import SSHTunnelForwarder\n",
    "from sqlalchemy import create_engine\n",
    "\n",
    "import pickle"
   ]
  },
  {
   "cell_type": "markdown",
   "metadata": {},
   "source": [
    "### Setup SSH tunnel ###"
   ]
  },
  {
   "cell_type": "code",
   "execution_count": null,
   "metadata": {
    "ExecuteTime": {
     "end_time": "2017-05-13T16:29:37.337337Z",
     "start_time": "2017-05-13T12:29:37.113935-04:00"
    }
   },
   "outputs": [],
   "source": [
    "# SSH config shortcut\n",
    "SSH_CONFIG_SHORTCUT = INSTANCE\n",
    "\n",
    "server = SSHTunnelForwarder(\n",
    "    SSH_CONFIG_SHORTCUT,\n",
    "    ssh_config_file=CONFIG_FILE,\n",
    "    remote_bind_address=(ADDRESS)\n",
    ")\n",
    "\n",
    "server.start()"
   ]
  },
  {
   "cell_type": "markdown",
   "metadata": {},
   "source": [
    "### Create SQLAlchemy engine to access SQL database on instance ###"
   ]
  },
  {
   "cell_type": "code",
   "execution_count": null,
   "metadata": {
    "ExecuteTime": {
     "end_time": "2017-05-01T19:00:36.229541Z",
     "start_time": "2017-05-01T15:00:35.992650-04:00"
    },
    "collapsed": true
   },
   "outputs": [],
   "source": [
    "# Postgres username, password, and database name\n",
    "POSTGRES_IP_ADDRESS = ADDRESS ## This is localhost because SSH tunnel is active\n",
    "POSTGRES_PORT = str(server.local_bind_port)\n",
    "POSTGRES_USERNAME = USERNAME    \n",
    "POSTGRES_PASSWORD = PASSWORD \n",
    "POSTGRES_DBNAME = DB\n",
    "\n",
    "# A long string that contains the necessary Postgres login information\n",
    "postgres_str = ('postgresql://{username}:{password}@{ipaddress}:{port}/{dbname}'\n",
    "                .format(username=POSTGRES_USERNAME, \n",
    "                        password=POSTGRES_PASSWORD,\n",
    "                        ipaddress=POSTGRES_IP_ADDRESS,\n",
    "                        port=POSTGRES_PORT,\n",
    "                        dbname=POSTGRES_DBNAME))\n",
    "\n",
    "# Create the connection\n",
    "cnx = create_engine(postgres_str)"
   ]
  },
  {
   "cell_type": "markdown",
   "metadata": {},
   "source": [
    "### Perform join ###"
   ]
  },
  {
   "cell_type": "code",
   "execution_count": null,
   "metadata": {
    "ExecuteTime": {
     "end_time": "2017-05-01T19:30:29.952211Z",
     "start_time": "2017-05-01T15:30:23.100756-04:00"
    },
    "collapsed": true
   },
   "outputs": [],
   "source": [
    "raw_df = pd.read_sql_query('''SELECT * \n",
    "                                FROM filings\n",
    "                                    RIGHT JOIN committees\n",
    "                                    ON filings.committee = committees.name\n",
    "                                    JOIN committee_data\n",
    "                                    ON committees.committeeid = committee_data.committeeid\n",
    "                                    RIGHT JOIN cf_committee_data\n",
    "                                    ON committee_data.fec_id = cf_committee_data.id;''', cnx)\n",
    "\n",
    "pickle.dump(raw_df,open('../pickle_jar/raw_join.p','wb'))"
   ]
  },
  {
   "cell_type": "code",
   "execution_count": null,
   "metadata": {
    "ExecuteTime": {
     "end_time": "2017-05-01T19:36:18.975611Z",
     "start_time": "2017-05-01T15:36:18.885259-04:00"
    },
    "collapsed": true
   },
   "outputs": [],
   "source": [
    "server.close()"
   ]
  }
 ],
 "metadata": {
  "kernelspec": {
   "display_name": "Python 3",
   "language": "python",
   "name": "python3"
  },
  "language_info": {
   "codemirror_mode": {
    "name": "ipython",
    "version": 3
   },
   "file_extension": ".py",
   "mimetype": "text/x-python",
   "name": "python",
   "nbconvert_exporter": "python",
   "pygments_lexer": "ipython3",
   "version": "3.5.3"
  },
  "latex_envs": {
   "LaTeX_envs_menu_present": true,
   "autocomplete": true,
   "bibliofile": "biblio.bib",
   "cite_by": "apalike",
   "current_citInitial": 1,
   "eqLabelWithNumbers": true,
   "eqNumInitial": 1,
   "hotkeys": {
    "equation": "Ctrl-E",
    "itemize": "Ctrl-I"
   },
   "labels_anchors": false,
   "latex_user_defs": false,
   "report_style_numbering": false,
   "user_envs_cfg": false
  },
  "varInspector": {
   "cols": {
    "lenName": 16,
    "lenType": 16,
    "lenVar": 40
   },
   "kernels_config": {
    "python": {
     "delete_cmd_postfix": "",
     "delete_cmd_prefix": "del ",
     "library": "var_list.py",
     "varRefreshCmd": "print(var_dic_list())"
    },
    "r": {
     "delete_cmd_postfix": ") ",
     "delete_cmd_prefix": "rm(",
     "library": "var_list.r",
     "varRefreshCmd": "cat(var_dic_list()) "
    }
   },
   "types_to_exclude": [
    "module",
    "function",
    "builtin_function_or_method",
    "instance",
    "_Feature"
   ],
   "window_display": false
  }
 },
 "nbformat": 4,
 "nbformat_minor": 2
}
